{
 "cells": [
  {
   "cell_type": "code",
   "execution_count": null,
   "id": "c72015b3",
   "metadata": {},
   "outputs": [],
   "source": [
    "x = 2"
   ]
  },
  {
   "cell_type": "code",
   "execution_count": null,
   "id": "a2e6c3cb",
   "metadata": {},
   "outputs": [],
   "source": [
    "x"
   ]
  },
  {
   "cell_type": "code",
   "execution_count": null,
   "id": "9f3dee66",
   "metadata": {},
   "outputs": [],
   "source": [
    "%pip install pandas\n",
    "import pandas as pd\n",
    "datos = pd.DataFrame({\"manzanas\": [700, 862], \"naranjas\": [725, 800]}, index=[\"caja1\", \"caja2\"])\n",
    "datos"
   ]
  },
  {
   "cell_type": "markdown",
   "id": "81d7f486",
   "metadata": {},
   "source": [
    "# Importacion de libreria pandas para crear un dataframe\n",
    "creamos un proceso donde podemos crear de todo un poco"
   ]
  },
  {
   "cell_type": "code",
   "execution_count": null,
   "id": "406844ea",
   "metadata": {},
   "outputs": [],
   "source": [
    "%pip install matplotlib\n",
    "datos.color = [\"red\", 'orange']\n",
    "datos.plot(kind='bar', color=datos.color)"
   ]
  },
  {
   "cell_type": "code",
   "execution_count": 22,
   "id": "f5c164d3",
   "metadata": {},
   "outputs": [
    {
     "data": {
      "text/plain": [
       "5"
      ]
     },
     "execution_count": 22,
     "metadata": {},
     "output_type": "execute_result"
    }
   ],
   "source": [
    "import functions\n",
    "functions.suma([2, 3])"
   ]
  }
 ],
 "metadata": {
  "kernelspec": {
   "display_name": "Python 3",
   "language": "python",
   "name": "python3"
  },
  "language_info": {
   "codemirror_mode": {
    "name": "ipython",
    "version": 3
   },
   "file_extension": ".py",
   "mimetype": "text/x-python",
   "name": "python",
   "nbconvert_exporter": "python",
   "pygments_lexer": "ipython3",
   "version": "3.13.5"
  }
 },
 "nbformat": 4,
 "nbformat_minor": 5
}
